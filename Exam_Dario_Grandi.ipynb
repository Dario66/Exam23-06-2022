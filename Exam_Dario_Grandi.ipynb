{
  "nbformat": 4,
  "nbformat_minor": 0,
  "metadata": {
    "colab": {
      "name": "Exam_Dario_Grandi.ipynb",
      "provenance": [],
      "collapsed_sections": [],
      "include_colab_link": true
    },
    "kernelspec": {
      "name": "python3",
      "display_name": "Python 3"
    },
    "language_info": {
      "name": "python"
    }
  },
  "cells": [
    {
      "cell_type": "markdown",
      "metadata": {
        "id": "view-in-github",
        "colab_type": "text"
      },
      "source": [
        "<a href=\"https://colab.research.google.com/github/Dario66/Exam23-06-2022/blob/main/Exam_Dario_Grandi.ipynb\" target=\"_parent\"><img src=\"https://colab.research.google.com/assets/colab-badge.svg\" alt=\"Open In Colab\"/></a>"
      ]
    },
    {
      "cell_type": "markdown",
      "source": [
        "Scarico i 3 file csv di Train, Test e Validation da GitHub."
      ],
      "metadata": {
        "id": "O3yzEoOvHHMY"
      }
    },
    {
      "cell_type": "code",
      "execution_count": 3,
      "metadata": {
        "colab": {
          "base_uri": "https://localhost:8080/"
        },
        "id": "lxRaD5PIG-4G",
        "outputId": "ca9f84f1-2993-4586-e3e4-708d9a462e7b"
      },
      "outputs": [
        {
          "output_type": "stream",
          "name": "stdout",
          "text": [
            "Cloning into 'Deep-Learning'...\n",
            "remote: Enumerating objects: 272, done.\u001b[K\n",
            "remote: Counting objects: 100% (18/18), done.\u001b[K\n",
            "remote: Compressing objects: 100% (13/13), done.\u001b[K\n",
            "remote: Total 272 (delta 11), reused 5 (delta 5), pack-reused 254\u001b[K\n",
            "Receiving objects: 100% (272/272), 2.50 MiB | 9.19 MiB/s, done.\n",
            "Resolving deltas: 100% (128/128), done.\n"
          ]
        }
      ],
      "source": [
        "! git clone https://github.com/Dario66/Deep-Learning.git\n",
        "\n",
        "! mv Deep-Learning/test_data.csv test_data.csv\n",
        "! mv Deep-Learning/train_data.csv train_data.csv\n",
        "! mv Deep-Learning/val_data.csv val_data.csv\n",
        "! rm -rf Deep-Learning"
      ]
    },
    {
      "cell_type": "markdown",
      "source": [
        "importo le librerie necessarie\n"
      ],
      "metadata": {
        "id": "abzK5-MWHKPZ"
      }
    },
    {
      "cell_type": "code",
      "source": [
        "import numpy as np\n",
        "import pandas as pd\n",
        "import pickle\n",
        "import tensorflow as tf\n",
        "from wordcloud import WordCloud, STOPWORDS\n",
        "import matplotlib.pyplot as plt\n",
        "from tensorflow.keras.preprocessing import text, sequence\n",
        "from tensorflow.keras.models import Sequential\n",
        "from tensorflow.keras.layers import Dense, Dropout, Activation\n",
        "from tensorflow.keras.layers import Embedding,Flatten\n",
        "from tensorflow.keras.layers import Conv1D, GlobalMaxPooling1D, MaxPooling1D ,AveragePooling1D, LeakyReLU\n",
        "from sklearn.model_selection import train_test_split\n",
        "from sklearn.metrics import accuracy_score, f1_score, confusion_matrix\n",
        "import seaborn as sns\n",
        "from keras.callbacks import ModelCheckpoint\n",
        "import string\n",
        "import re\n",
        "import nltk\n",
        "nltk.download('stopwords')\n",
        "stemmer = nltk.SnowballStemmer(\"english\")\n",
        "from nltk.corpus import stopwords\n",
        "import string\n",
        "import nltk\n",
        "import unicodedata\n",
        "! pip install emoji\n",
        "import emoji\n",
        "import itertools\n",
        "from nltk.corpus import stopwords\n",
        "from nltk.tokenize import word_tokenize\n",
        "nltk.download('punkt')\n",
        "from nltk.stem import WordNetLemmatizer "
      ],
      "metadata": {
        "colab": {
          "base_uri": "https://localhost:8080/"
        },
        "id": "o5zBbQ7OHKw_",
        "outputId": "cbd550cf-c072-48da-e668-76436fdb6b56"
      },
      "execution_count": 4,
      "outputs": [
        {
          "output_type": "stream",
          "name": "stderr",
          "text": [
            "[nltk_data] Downloading package stopwords to /root/nltk_data...\n",
            "[nltk_data]   Package stopwords is already up-to-date!\n"
          ]
        },
        {
          "output_type": "stream",
          "name": "stdout",
          "text": [
            "Looking in indexes: https://pypi.org/simple, https://us-python.pkg.dev/colab-wheels/public/simple/\n",
            "Requirement already satisfied: emoji in /usr/local/lib/python3.7/dist-packages (1.7.0)\n"
          ]
        },
        {
          "output_type": "stream",
          "name": "stderr",
          "text": [
            "[nltk_data] Downloading package punkt to /root/nltk_data...\n",
            "[nltk_data]   Package punkt is already up-to-date!\n"
          ]
        }
      ]
    },
    {
      "cell_type": "markdown",
      "source": [
        "carico i 3 dataset in formato csv e unifico i file in un unico DataFrame, dal momento che effettuerò un refactor delle colonne in questo modo non dovrò ripetere le operazioni sui Set. Effetturò il partizionamento in un secondo momento.\n"
      ],
      "metadata": {
        "id": "j0Ir8KjZHEaG"
      }
    },
    {
      "cell_type": "code",
      "source": [
        "nRow, nCol = pd.read_csv(\"train_data.csv\").shape\n",
        "print('\\nThere are {} rows and {} columns for TRAIN'.format(nRow, nCol))\n",
        "nRow, nCol = pd.read_csv(\"test_data.csv\").shape\n",
        "print('\\nThere are {} rows and {} columns for TEST'.format(nRow, nCol))\n",
        "nRow, nCol = pd.read_csv(\"val_data.csv\").shape\n",
        "print('\\nThere are {} rows and {} columns for VALIDATION\\n\\n'.format(nRow, nCol))\n",
        "\n",
        "# merging csv files\n",
        "df = pd.concat(\n",
        "    map(pd.read_csv, ['train_data.csv', 'test_data.csv', 'val_data.csv']), ignore_index=True)\n",
        "\n",
        "df['class'].value_counts().plot(kind='bar')\n",
        "\n",
        "\n",
        "def findLen(str):\n",
        "    counter = 0   \n",
        "    for i in str:\n",
        "        counter += 1\n",
        "    return counter\n",
        "\n",
        "max_lenght=0\n",
        "count_over_500=0\n",
        "for index, row in df.iterrows():\n",
        "  testo = str(row['tweet'])\n",
        "  ooo=findLen(testo)\n",
        "  if ooo>max_lenght:\n",
        "    max_lenght=len(testo)\n",
        "  if ooo>400:\n",
        "    count_over_500 += 1\n",
        "\n",
        "print('tweet con più caratteri :'+str(max_lenght)+'\\n\\n')\n",
        "print('numero di tweet con più di 500 caratteri :'+str(count_over_500)+'\\n\\n')"
      ],
      "metadata": {
        "colab": {
          "base_uri": "https://localhost:8080/",
          "height": 514
        },
        "id": "HFVXkTl9Gi9d",
        "outputId": "5950191e-a6ef-449d-91b2-0144e04d22da"
      },
      "execution_count": 5,
      "outputs": [
        {
          "output_type": "stream",
          "name": "stdout",
          "text": [
            "\n",
            "There are 17348 rows and 7 columns for TRAIN\n",
            "\n",
            "There are 3717 rows and 7 columns for TEST\n",
            "\n",
            "There are 3718 rows and 7 columns for VALIDATION\n",
            "\n",
            "\n",
            "tweet con più caratteri :754\n",
            "\n",
            "\n",
            "numero di tweet con più di 500 caratteri :7\n",
            "\n",
            "\n"
          ]
        },
        {
          "output_type": "display_data",
          "data": {
            "text/plain": [
              "<Figure size 432x288 with 1 Axes>"
            ],
            "image/png": "[encoded data removed]"
          },
          "metadata": {
            "needs_background": "light"
          }
        }
      ]
    },
    {
      "cell_type": "markdown",
      "source": [
        "Dal grafico si può notare un forte sbilanciamento delle classi, è stato scelto di non utilizzare tecniche di Over/Under Sampling per evitare ulteriore overfit ma piuttosto la regolazione del parametro class_weight durante il training del modello.\n",
        "\n",
        "Implemento le funzioni per il pre-processamento dei dati testuali, applicando sostituzioni e rimozioni sulla colonna contenente il tweet.\n",
        "\n",
        "Saranno trattati i dati come URL,EMOJI,HASHTAG,SMILEY, ESCAPE, PUNCTUATIONS, CONTRACTIONS.\n",
        "\n"
      ],
      "metadata": {
        "id": "xLAZu008HQra"
      }
    },
    {
      "cell_type": "code",
      "source": [
        "import collections\n",
        "from collections import Counter\n",
        "from nltk.corpus import stopwords\n",
        "#metodi di clean https://towardsdatascience.com/twitter-sentiment-analysis-using-fasttext-9ccd04465597\n",
        "stop_words = stopwords.words('english')\n",
        "nltk.download('wordnet')\n",
        "nltk.download('omw-1.4')\n",
        "\n",
        "def stopwordsFilt(text):\n",
        "  word_tokens = word_tokenize(text)\n",
        "  filtered_sentence = [w for w in word_tokens if not w.lower() in stop_words]\n",
        "  filtered_sentence = []\n",
        "  for w in word_tokens:\n",
        "    if w not in stop_words:\n",
        "        filtered_sentence.append(w)\n",
        "  return filtered_sentence\n",
        "\n",
        "CONTRACTIONS = {\"mayn't\":\"may not\", \"may've\":\"may have\", \"aren't\":\"are not\", \"can't\":\"can not\", \n",
        "                \"couldn't\":\"could not\", \"daren't\":\"dare not\", \"didn't\":\"did not\", \"doesn't\":\"does not\", \n",
        "                \"don't\":\"do not\", \"hasn't\":\"has not\", \"haven't\":\"have not\", \"hadn't\":\"had not\", \n",
        "                \"isn't\":\"is not\", \"mightn't\":\"might not\", \"mustn't\":\"must not\", \"needn't\":\"need not\", \n",
        "                \"oughtn't\":\"ought not\", \"shan't\":\"shall not\", \"shouldn't\":\"should not\", \"wasn't\":\"was not\", \n",
        "                \"weren't\":\"were not\", \"won't\":\"will not\", \"wouldn't\":\"would not\"}\n",
        "\n",
        "def remov_duplicates(input):\n",
        "  \n",
        "    # split input string separated by space\n",
        "    input = input.split(\" \")\n",
        "  \n",
        "    # now create dictionary using counter method\n",
        "    # which will have strings as key and their \n",
        "    # frequencies as value\n",
        "    UniqW = Counter(input)\n",
        "  \n",
        "    # joins two adjacent elements in iterable way\n",
        "    s = \" \".join(UniqW.keys())\n",
        "    return s\n",
        "  \n",
        "lemmatizer = WordNetLemmatizer() \n",
        "\n",
        "def contractors_fix(text):\n",
        "   text = text.replace(\"’\",\"'\")\n",
        "   words = text.split()\n",
        "   reformed = [CONTRACTIONS[word] if word in CONTRACTIONS else word for word in words]\n",
        "   text = \" \".join(reformed)\n",
        "   return text\n",
        "\n",
        "def remove_accented_chars(text):\n",
        "  text = unicodedata.normalize('NFKD', text).encode('ascii', 'ignore').decode('utf-8', 'ignore')\n",
        "  return text\n",
        "def clean_text(text):\n",
        "    text = str(text).lower()\n",
        "    text = contractors_fix(text)\n",
        "    text = emoji.demojize(text, delimiters=(\"\", \"\"))#traduzione Emoji\n",
        "    text=  remove_accented_chars(text)#rimuove caratteri accentati\n",
        "    text = ' '.join(re.sub(\"[\\.\\,\\!\\?\\:\\;\\-\\=]\", \" \", text).split())#Rimozione punteggiatura\n",
        "    text = re.sub('\\[.*?\\]', '', text)#Rimozione punteggiatura\n",
        "    text = re.sub('https?://\\S+|www\\.\\S+', '', text)#Rimozione Url\n",
        "    text = re.sub(r\"(@\\[A-Za-z0-9]+)|([^0-9A-Za-z \\t])|(\\w+:\\/\\/\\S+)|^rt|http.+?\", \"\", text)\n",
        "    text = ' '.join(re.sub(\"(@[A-Za-z0-9]+)|(#[A-Za-z0-9]+)\", \" \", text).split())\n",
        "    text = re.sub('<.*?>+', '', text)#Rimozione Html tag\n",
        "    text = re.sub('[%s]' % re.escape(string.punctuation), '', text)#rimuove i punti di inizio e fine discorso\n",
        "    text = re.sub('\\n', '', text)#rimuove le righe vuote\n",
        "    text = re.sub('\\w*\\d\\w*', '', text)#Regular Expressions\n",
        "    text = ''.join(''.join(s)[:2] for _, s in itertools.groupby(text))#Correzzione parole errate\n",
        "    text = re.sub(\"(.)\\\\1{2,}\", \"\\\\1\", text)\n",
        "    text = re.sub(' +', ' ',text)\n",
        "    text = remov_duplicates(text)\n",
        "    text = re.sub(r\"http\", \"\", text)\n",
        "    text = re.sub(r\"jkw\", \"\", text)\n",
        "    text = re.sub(r\"(@\\[A-Za-z0-9]+)|([^0-9A-Za-z \\t])|(\\w+:\\/\\/\\S+)|^rt|http.+?\", \"\", text)\n",
        "    text = [word for word in text.split(' ') if word not in stop_words]\n",
        "    text=\" \".join(text)\n",
        "    text = [stemmer.stem(word) for word in text.split(' ')]#Rimuove gli affissi\n",
        "    text=\" \".join(text)\n",
        "    return text\n",
        "\n",
        "#Modifico testo da ogni tweet\n",
        "for index, row in df.iterrows():\n",
        "    df.at[index, 'tweet'] = remove_accented_chars(clean_text(row['tweet']))\n",
        "   "
      ],
      "metadata": {
        "id": "ofwy0AmRHRVK",
        "colab": {
          "base_uri": "https://localhost:8080/"
        },
        "outputId": "62ea9d4e-939b-4f5c-9b5a-85be6387b630"
      },
      "execution_count": 6,
      "outputs": [
        {
          "output_type": "stream",
          "name": "stderr",
          "text": [
            "[nltk_data] Downloading package wordnet to /root/nltk_data...\n",
            "[nltk_data]   Unzipping corpora/wordnet.zip.\n",
            "[nltk_data] Downloading package omw-1.4 to /root/nltk_data...\n",
            "[nltk_data]   Unzipping corpora/omw-1.4.zip.\n"
          ]
        }
      ]
    },
    {
      "cell_type": "markdown",
      "source": [
        "Stampo il numero di righe e colonne del Dataset unificato"
      ],
      "metadata": {
        "id": "meu92iShHX3H"
      }
    },
    {
      "cell_type": "code",
      "source": [
        "nRow, nCol = df.shape\n",
        "print('There are {} rows and {} columns'.format(nRow, nCol))"
      ],
      "metadata": {
        "colab": {
          "base_uri": "https://localhost:8080/"
        },
        "id": "6GT0i7UGHYMi",
        "outputId": "9b878e6d-39ec-442a-e194-a48c031b8dc9"
      },
      "execution_count": 7,
      "outputs": [
        {
          "output_type": "stream",
          "name": "stdout",
          "text": [
            "There are 24783 rows and 7 columns\n"
          ]
        }
      ]
    },
    {
      "cell_type": "markdown",
      "source": [
        "Per comodità rinomino le colonne tweet e class in text e category, aggiungendo una colonna ulteriore con le 3 possibili classi di appartenenza--> 0: hate_speech, 1 offensive_language, 2: neither. \n",
        "\n",
        "Creo un nuovo dataframe prendendo le due colonne rinominate e inserendo la colonna aggiuntiva, in modo da avere 3 colonne: text, category e label.\n"
      ],
      "metadata": {
        "id": "igEDQNeHHeYE"
      }
    },
    {
      "cell_type": "code",
      "source": [
        "c=df['class']\n",
        "df.rename(columns={'tweet' : 'text',\n",
        "                   'class' : 'category'}, \n",
        "                    inplace=True)\n",
        "a=df['text']\n",
        "b=df['category'].map({0: 'hate_speech', 1: 'offensive_language',2: 'neither'})\n",
        "\n",
        "df= pd.concat([a,b,c], axis=1)\n",
        "df.rename(columns={'class' : 'label'}, \n",
        "                    inplace=True)\n",
        "df"
      ],
      "metadata": {
        "colab": {
          "base_uri": "https://localhost:8080/",
          "height": 424
        },
        "id": "PZA3ffuHHe-y",
        "outputId": "1236a12f-03a8-42b9-9346-dbda92dd9e32"
      },
      "execution_count": 8,
      "outputs": [
        {
          "output_type": "execute_result",
          "data": {
            "text/plain": [
              "                                                    text            category  \\\n",
              "0                                    get money silli hoe  offensive_language   \n",
              "1                 almost year ago gave bitch away stolen  offensive_language   \n",
              "2      rakwonogod bitch tweet last night gt like some...  offensive_language   \n",
              "3                                 hoe fat trel said best  offensive_language   \n",
              "4      charli crist pull one rick scott well floridap...             neither   \n",
              "...                                                  ...                 ...   \n",
              "24778                                            hoe amp  offensive_language   \n",
              "24779                                  fake niggah lolol  offensive_language   \n",
              "24780                                    got nigga bitch  offensive_language   \n",
              "24781                    gotta understand bitch childish  offensive_language   \n",
              "24782  your retard hope get type diabet die sugar rus...         hate_speech   \n",
              "\n",
              "       label  \n",
              "0          1  \n",
              "1          1  \n",
              "2          1  \n",
              "3          1  \n",
              "4          2  \n",
              "...      ...  \n",
              "24778      1  \n",
              "24779      1  \n",
              "24780      1  \n",
              "24781      1  \n",
              "24782      0  \n",
              "\n",
              "[24783 rows x 3 columns]"
            ],
            "text/html": [
              "\n",
              "  <div id=\"df-f1d4dd05-793b-497c-a2eb-7a8eece3a64b\">\n",
              "    <div class=\"colab-df-container\">\n",
              "      <div>\n",
              "<style scoped>\n",
              "    .dataframe tbody tr th:only-of-type {\n",
              "        vertical-align: middle;\n",
              "    }\n",
              "\n",
              "    .dataframe tbody tr th {\n",
              "        vertical-align: top;\n",
              "    }\n",
              "\n",
              "    .dataframe thead th {\n",
              "        text-align: right;\n",
              "    }\n",
              "</style>\n",
              "<table border=\"1\" class=\"dataframe\">\n",
              "  <thead>\n",
              "    <tr style=\"text-align: right;\">\n",
              "      <th></th>\n",
              "      <th>text</th>\n",
              "      <th>category</th>\n",
              "      <th>label</th>\n",
              "    </tr>\n",
              "  </thead>\n",
              "  <tbody>\n",
              "    <tr>\n",
              "      <th>0</th>\n",
              "      <td>get money silli hoe</td>\n",
              "      <td>offensive_language</td>\n",
              "      <td>1</td>\n",
              "    </tr>\n",
              "    <tr>\n",
              "      <th>1</th>\n",
              "      <td>almost year ago gave bitch away stolen</td>\n",
              "      <td>offensive_language</td>\n",
              "      <td>1</td>\n",
              "    </tr>\n",
              "    <tr>\n",
              "      <th>2</th>\n",
              "      <td>rakwonogod bitch tweet last night gt like some...</td>\n",
              "      <td>offensive_language</td>\n",
              "      <td>1</td>\n",
              "    </tr>\n",
              "    <tr>\n",
              "      <th>3</th>\n",
              "      <td>hoe fat trel said best</td>\n",
              "      <td>offensive_language</td>\n",
              "      <td>1</td>\n",
              "    </tr>\n",
              "    <tr>\n",
              "      <th>4</th>\n",
              "      <td>charli crist pull one rick scott well floridap...</td>\n",
              "      <td>neither</td>\n",
              "      <td>2</td>\n",
              "    </tr>\n",
              "    <tr>\n",
              "      <th>...</th>\n",
              "      <td>...</td>\n",
              "      <td>...</td>\n",
              "      <td>...</td>\n",
              "    </tr>\n",
              "    <tr>\n",
              "      <th>24778</th>\n",
              "      <td>hoe amp</td>\n",
              "      <td>offensive_language</td>\n",
              "      <td>1</td>\n",
              "    </tr>\n",
              "    <tr>\n",
              "      <th>24779</th>\n",
              "      <td>fake niggah lolol</td>\n",
              "      <td>offensive_language</td>\n",
              "      <td>1</td>\n",
              "    </tr>\n",
              "    <tr>\n",
              "      <th>24780</th>\n",
              "      <td>got nigga bitch</td>\n",
              "      <td>offensive_language</td>\n",
              "      <td>1</td>\n",
              "    </tr>\n",
              "    <tr>\n",
              "      <th>24781</th>\n",
              "      <td>gotta understand bitch childish</td>\n",
              "      <td>offensive_language</td>\n",
              "      <td>1</td>\n",
              "    </tr>\n",
              "    <tr>\n",
              "      <th>24782</th>\n",
              "      <td>your retard hope get type diabet die sugar rus...</td>\n",
              "      <td>hate_speech</td>\n",
              "      <td>0</td>\n",
              "    </tr>\n",
              "  </tbody>\n",
              "</table>\n",
              "<p>24783 rows × 3 columns</p>\n",
              "</div>\n",
              "      <button class=\"colab-df-convert\" onclick=\"convertToInteractive('df-f1d4dd05-793b-497c-a2eb-7a8eece3a64b')\"\n",
              "              title=\"Convert this dataframe to an interactive table.\"\n",
              "              style=\"display:none;\">\n",
              "        \n",
              "  <svg xmlns=\"http://www.w3.org/2000/svg\" height=\"24px\"viewBox=\"0 0 24 24\"\n",
              "       width=\"24px\">\n",
              "    <path d=\"M0 0h24v24H0V0z\" fill=\"none\"/>\n",
              "    <path d=\"M18.56 5.44l.94 2.06.94-2.06 2.06-.94-2.06-.94-.94-2.06-.94 2.06-2.06.94zm-11 1L8.5 8.5l.94-2.06 2.06-.94-2.06-.94L8.5 2.5l-.94 2.06-2.06.94zm10 10l.94 2.06.94-2.06 2.06-.94-2.06-.94-.94-2.06-.94 2.06-2.06.94z\"/><path d=\"M17.41 7.96l-1.37-1.37c-.4-.4-.92-.59-1.43-.59-.52 0-1.04.2-1.43.59L10.3 9.45l-7.72 7.72c-.78.78-.78 2.05 0 2.83L4 21.41c.39.39.9.59 1.41.59.51 0 1.02-.2 1.41-.59l7.78-7.78 2.81-2.81c.8-.78.8-2.07 0-2.86zM5.41 20L4 18.59l7.72-7.72 1.47 1.35L5.41 20z\"/>\n",
              "  </svg>\n",
              "      </button>\n",
              "      \n",
              "  <style>\n",
              "    .colab-df-container {\n",
              "      display:flex;\n",
              "      flex-wrap:wrap;\n",
              "      gap: 12px;\n",
              "    }\n",
              "\n",
              "    .colab-df-convert {\n",
              "      background-color: #E8F0FE;\n",
              "      border: none;\n",
              "      border-radius: 50%;\n",
              "      cursor: pointer;\n",
              "      display: none;\n",
              "      fill: #1967D2;\n",
              "      height: 32px;\n",
              "      padding: 0 0 0 0;\n",
              "      width: 32px;\n",
              "    }\n",
              "\n",
              "    .colab-df-convert:hover {\n",
              "      background-color: #E2EBFA;\n",
              "      box-shadow: 0px 1px 2px rgba(60, 64, 67, 0.3), 0px 1px 3px 1px rgba(60, 64, 67, 0.15);\n",
              "      fill: #174EA6;\n",
              "    }\n",
              "\n",
              "    [theme=dark] .colab-df-convert {\n",
              "      background-color: #3B4455;\n",
              "      fill: #D2E3FC;\n",
              "    }\n",
              "\n",
              "    [theme=dark] .colab-df-convert:hover {\n",
              "      background-color: #434B5C;\n",
              "      box-shadow: 0px 1px 3px 1px rgba(0, 0, 0, 0.15);\n",
              "      filter: drop-shadow(0px 1px 2px rgba(0, 0, 0, 0.3));\n",
              "      fill: #FFFFFF;\n",
              "    }\n",
              "  </style>\n",
              "\n",
              "      <script>\n",
              "        const buttonEl =\n",
              "          document.querySelector('#df-f1d4dd05-793b-497c-a2eb-7a8eece3a64b button.colab-df-convert');\n",
              "        buttonEl.style.display =\n",
              "          google.colab.kernel.accessAllowed ? 'block' : 'none';\n",
              "\n",
              "        async function convertToInteractive(key) {\n",
              "          const element = document.querySelector('#df-f1d4dd05-793b-497c-a2eb-7a8eece3a64b');\n",
              "          const dataTable =\n",
              "            await google.colab.kernel.invokeFunction('convertToInteractive',\n",
              "                                                     [key], {});\n",
              "          if (!dataTable) return;\n",
              "\n",
              "          const docLinkHtml = 'Like what you see? Visit the ' +\n",
              "            '<a target=\"_blank\" href=https://colab.research.google.com/notebooks/data_table.ipynb>data table notebook</a>'\n",
              "            + ' to learn more about interactive tables.';\n",
              "          element.innerHTML = '';\n",
              "          dataTable['output_type'] = 'display_data';\n",
              "          await google.colab.output.renderOutput(dataTable, element);\n",
              "          const docLink = document.createElement('div');\n",
              "          docLink.innerHTML = docLinkHtml;\n",
              "          element.appendChild(docLink);\n",
              "        }\n",
              "      </script>\n",
              "    </div>\n",
              "  </div>\n",
              "  "
            ]
          },
          "metadata": {},
          "execution_count": 8
        }
      ]
    },
    {
      "cell_type": "markdown",
      "source": [
        "Conto quanti record per ciascuna classe di appartenenza"
      ],
      "metadata": {
        "id": "Tg9eNAxEHjJ6"
      }
    },
    {
      "cell_type": "code",
      "source": [
        "# Grouping data by label\n",
        "df['category'].value_counts()"
      ],
      "metadata": {
        "colab": {
          "base_uri": "https://localhost:8080/"
        },
        "id": "NmJby6kUHjid",
        "outputId": "b5b2ddc2-eb3b-4e60-9f54-4f944b1bfb45"
      },
      "execution_count": 9,
      "outputs": [
        {
          "output_type": "execute_result",
          "data": {
            "text/plain": [
              "offensive_language    19190\n",
              "neither                4163\n",
              "hate_speech            1430\n",
              "Name: category, dtype: int64"
            ]
          },
          "metadata": {},
          "execution_count": 9
        }
      ]
    },
    {
      "cell_type": "code",
      "source": [
        "hate, ofensive, neither = np.bincount(df['label'])\n",
        "total = hate + ofensive + neither\n",
        "print('Examples:\\n    Total: {}\\n    hate: {} ({:.2f}% of total)\\n'.format(\n",
        "    total, hate, 100 * hate / total))\n",
        "print('Examples:\\n    Total: {}\\n    Ofensive: {} ({:.2f}% of total)\\n'.format(\n",
        "    total, ofensive, 100 * ofensive / total))\n",
        "print('Examples:\\n    Total: {}\\n    Neither: {} ({:.2f}% of total)\\n'.format(\n",
        "    total, neither, 100 * neither / total))"
      ],
      "metadata": {
        "colab": {
          "base_uri": "https://localhost:8080/"
        },
        "id": "NuaR_5IPHnkZ",
        "outputId": "62277467-817f-4762-cfca-d459969768f2"
      },
      "execution_count": 10,
      "outputs": [
        {
          "output_type": "stream",
          "name": "stdout",
          "text": [
            "Examples:\n",
            "    Total: 24783\n",
            "    hate: 1430 (5.77% of total)\n",
            "\n",
            "Examples:\n",
            "    Total: 24783\n",
            "    Ofensive: 19190 (77.43% of total)\n",
            "\n",
            "Examples:\n",
            "    Total: 24783\n",
            "    Neither: 4163 (16.80% of total)\n",
            "\n"
          ]
        }
      ]
    },
    {
      "cell_type": "markdown",
      "source": [
        "Procedo a creare i dataset di Train,Test e Validation attraverso il metodo train_test_split di sklearn e successivamente rinomino le etichette dei set.\n"
      ],
      "metadata": {
        "id": "iOe-yJOvHq3R"
      }
    },
    {
      "cell_type": "code",
      "source": [
        "X_train_, X_test, y_train_, y_test = train_test_split(\n",
        "    df.index.values,\n",
        "    df.label.values,\n",
        "    test_size=0.15,\n",
        "    random_state=42,\n",
        "    stratify=df.label.values,    \n",
        ")\n",
        "\n",
        "X_train, X_val, y_train, y_val = train_test_split(\n",
        "    df.loc[X_train_].index.values,\n",
        "    df.loc[X_train_].label.values,\n",
        "    test_size=0.15,\n",
        "    random_state=42,\n",
        "    stratify=df.loc[X_train_].label.values,  \n",
        ")\n",
        "\n",
        "df['data_type'] = ['not_set']*df.shape[0]\n",
        "df.loc[X_train, 'data_type'] = 'train'\n",
        "df.loc[X_val, 'data_type'] = 'val'\n",
        "df.loc[X_test, 'data_type'] = 'test'\n",
        "\n",
        "df.head\n",
        "\n"
      ],
      "metadata": {
        "id": "th7Ew1W0HrnR",
        "colab": {
          "base_uri": "https://localhost:8080/"
        },
        "outputId": "e4d98c7f-4119-47ff-a165-be1688656250"
      },
      "execution_count": 11,
      "outputs": [
        {
          "output_type": "execute_result",
          "data": {
            "text/plain": [
              "<bound method NDFrame.head of                                                     text            category  \\\n",
              "0                                    get money silli hoe  offensive_language   \n",
              "1                 almost year ago gave bitch away stolen  offensive_language   \n",
              "2      rakwonogod bitch tweet last night gt like some...  offensive_language   \n",
              "3                                 hoe fat trel said best  offensive_language   \n",
              "4      charli crist pull one rick scott well floridap...             neither   \n",
              "...                                                  ...                 ...   \n",
              "24778                                            hoe amp  offensive_language   \n",
              "24779                                  fake niggah lolol  offensive_language   \n",
              "24780                                    got nigga bitch  offensive_language   \n",
              "24781                    gotta understand bitch childish  offensive_language   \n",
              "24782  your retard hope get type diabet die sugar rus...         hate_speech   \n",
              "\n",
              "       label data_type  \n",
              "0          1     train  \n",
              "1          1     train  \n",
              "2          1     train  \n",
              "3          1     train  \n",
              "4          2      test  \n",
              "...      ...       ...  \n",
              "24778      1     train  \n",
              "24779      1     train  \n",
              "24780      1     train  \n",
              "24781      1     train  \n",
              "24782      0     train  \n",
              "\n",
              "[24783 rows x 4 columns]>"
            ]
          },
          "metadata": {},
          "execution_count": 11
        }
      ]
    },
    {
      "cell_type": "markdown",
      "source": [
        "Mostro a schermo i raggruppamenti dei DataSet"
      ],
      "metadata": {
        "id": "oYJTSc5DPW9Y"
      }
    },
    {
      "cell_type": "code",
      "source": [
        "df.groupby(['category', 'label', 'data_type']).count()"
      ],
      "metadata": {
        "colab": {
          "base_uri": "https://localhost:8080/",
          "height": 363
        },
        "id": "N9_9Xm9THu1x",
        "outputId": "e9a9490a-d6fb-40e5-92a4-6dc9290f11ff"
      },
      "execution_count": 12,
      "outputs": [
        {
          "output_type": "execute_result",
          "data": {
            "text/plain": [
              "                                     text\n",
              "category           label data_type       \n",
              "hate_speech        0     test         214\n",
              "                         train       1034\n",
              "                         val          182\n",
              "neither            2     test         625\n",
              "                         train       3007\n",
              "                         val          531\n",
              "offensive_language 1     test        2879\n",
              "                         train      13864\n",
              "                         val         2447"
            ],
            "text/html": [
              "\n",
              "  <div id=\"df-a0c17c9b-8dff-4b3f-9c6c-3aa431f60fbb\">\n",
              "    <div class=\"colab-df-container\">\n",
              "      <div>\n",
              "<style scoped>\n",
              "    .dataframe tbody tr th:only-of-type {\n",
              "        vertical-align: middle;\n",
              "    }\n",
              "\n",
              "    .dataframe tbody tr th {\n",
              "        vertical-align: top;\n",
              "    }\n",
              "\n",
              "    .dataframe thead th {\n",
              "        text-align: right;\n",
              "    }\n",
              "</style>\n",
              "<table border=\"1\" class=\"dataframe\">\n",
              "  <thead>\n",
              "    <tr style=\"text-align: right;\">\n",
              "      <th></th>\n",
              "      <th></th>\n",
              "      <th></th>\n",
              "      <th>text</th>\n",
              "    </tr>\n",
              "    <tr>\n",
              "      <th>category</th>\n",
              "      <th>label</th>\n",
              "      <th>data_type</th>\n",
              "      <th></th>\n",
              "    </tr>\n",
              "  </thead>\n",
              "  <tbody>\n",
              "    <tr>\n",
              "      <th rowspan=\"3\" valign=\"top\">hate_speech</th>\n",
              "      <th rowspan=\"3\" valign=\"top\">0</th>\n",
              "      <th>test</th>\n",
              "      <td>214</td>\n",
              "    </tr>\n",
              "    <tr>\n",
              "      <th>train</th>\n",
              "      <td>1034</td>\n",
              "    </tr>\n",
              "    <tr>\n",
              "      <th>val</th>\n",
              "      <td>182</td>\n",
              "    </tr>\n",
              "    <tr>\n",
              "      <th rowspan=\"3\" valign=\"top\">neither</th>\n",
              "      <th rowspan=\"3\" valign=\"top\">2</th>\n",
              "      <th>test</th>\n",
              "      <td>625</td>\n",
              "    </tr>\n",
              "    <tr>\n",
              "      <th>train</th>\n",
              "      <td>3007</td>\n",
              "    </tr>\n",
              "    <tr>\n",
              "      <th>val</th>\n",
              "      <td>531</td>\n",
              "    </tr>\n",
              "    <tr>\n",
              "      <th rowspan=\"3\" valign=\"top\">offensive_language</th>\n",
              "      <th rowspan=\"3\" valign=\"top\">1</th>\n",
              "      <th>test</th>\n",
              "      <td>2879</td>\n",
              "    </tr>\n",
              "    <tr>\n",
              "      <th>train</th>\n",
              "      <td>13864</td>\n",
              "    </tr>\n",
              "    <tr>\n",
              "      <th>val</th>\n",
              "      <td>2447</td>\n",
              "    </tr>\n",
              "  </tbody>\n",
              "</table>\n",
              "</div>\n",
              "      <button class=\"colab-df-convert\" onclick=\"convertToInteractive('df-a0c17c9b-8dff-4b3f-9c6c-3aa431f60fbb')\"\n",
              "              title=\"Convert this dataframe to an interactive table.\"\n",
              "              style=\"display:none;\">\n",
              "        \n",
              "  <svg xmlns=\"http://www.w3.org/2000/svg\" height=\"24px\"viewBox=\"0 0 24 24\"\n",
              "       width=\"24px\">\n",
              "    <path d=\"M0 0h24v24H0V0z\" fill=\"none\"/>\n",
              "    <path d=\"M18.56 5.44l.94 2.06.94-2.06 2.06-.94-2.06-.94-.94-2.06-.94 2.06-2.06.94zm-11 1L8.5 8.5l.94-2.06 2.06-.94-2.06-.94L8.5 2.5l-.94 2.06-2.06.94zm10 10l.94 2.06.94-2.06 2.06-.94-2.06-.94-.94-2.06-.94 2.06-2.06.94z\"/><path d=\"M17.41 7.96l-1.37-1.37c-.4-.4-.92-.59-1.43-.59-.52 0-1.04.2-1.43.59L10.3 9.45l-7.72 7.72c-.78.78-.78 2.05 0 2.83L4 21.41c.39.39.9.59 1.41.59.51 0 1.02-.2 1.41-.59l7.78-7.78 2.81-2.81c.8-.78.8-2.07 0-2.86zM5.41 20L4 18.59l7.72-7.72 1.47 1.35L5.41 20z\"/>\n",
              "  </svg>\n",
              "      </button>\n",
              "      \n",
              "  <style>\n",
              "    .colab-df-container {\n",
              "      display:flex;\n",
              "      flex-wrap:wrap;\n",
              "      gap: 12px;\n",
              "    }\n",
              "\n",
              "    .colab-df-convert {\n",
              "      background-color: #E8F0FE;\n",
              "      border: none;\n",
              "      border-radius: 50%;\n",
              "      cursor: pointer;\n",
              "      display: none;\n",
              "      fill: #1967D2;\n",
              "      height: 32px;\n",
              "      padding: 0 0 0 0;\n",
              "      width: 32px;\n",
              "    }\n",
              "\n",
              "    .colab-df-convert:hover {\n",
              "      background-color: #E2EBFA;\n",
              "      box-shadow: 0px 1px 2px rgba(60, 64, 67, 0.3), 0px 1px 3px 1px rgba(60, 64, 67, 0.15);\n",
              "      fill: #174EA6;\n",
              "    }\n",
              "\n",
              "    [theme=dark] .colab-df-convert {\n",
              "      background-color: #3B4455;\n",
              "      fill: #D2E3FC;\n",
              "    }\n",
              "\n",
              "    [theme=dark] .colab-df-convert:hover {\n",
              "      background-color: #434B5C;\n",
              "      box-shadow: 0px 1px 3px 1px rgba(0, 0, 0, 0.15);\n",
              "      filter: drop-shadow(0px 1px 2px rgba(0, 0, 0, 0.3));\n",
              "      fill: #FFFFFF;\n",
              "    }\n",
              "  </style>\n",
              "\n",
              "      <script>\n",
              "        const buttonEl =\n",
              "          document.querySelector('#df-a0c17c9b-8dff-4b3f-9c6c-3aa431f60fbb button.colab-df-convert');\n",
              "        buttonEl.style.display =\n",
              "          google.colab.kernel.accessAllowed ? 'block' : 'none';\n",
              "\n",
              "        async function convertToInteractive(key) {\n",
              "          const element = document.querySelector('#df-a0c17c9b-8dff-4b3f-9c6c-3aa431f60fbb');\n",
              "          const dataTable =\n",
              "            await google.colab.kernel.invokeFunction('convertToInteractive',\n",
              "                                                     [key], {});\n",
              "          if (!dataTable) return;\n",
              "\n",
              "          const docLinkHtml = 'Like what you see? Visit the ' +\n",
              "            '<a target=\"_blank\" href=https://colab.research.google.com/notebooks/data_table.ipynb>data table notebook</a>'\n",
              "            + ' to learn more about interactive tables.';\n",
              "          element.innerHTML = '';\n",
              "          dataTable['output_type'] = 'display_data';\n",
              "          await google.colab.output.renderOutput(dataTable, element);\n",
              "          const docLink = document.createElement('div');\n",
              "          docLink.innerHTML = docLinkHtml;\n",
              "          element.appendChild(docLink);\n",
              "        }\n",
              "      </script>\n",
              "    </div>\n",
              "  </div>\n",
              "  "
            ]
          },
          "metadata": {},
          "execution_count": 12
        }
      ]
    },
    {
      "cell_type": "markdown",
      "source": [
        "compongo i set di Train,Test e Validation concatenando il primo e l'ultimo in un unica variabile"
      ],
      "metadata": {
        "id": "h5zO9AySH0tz"
      }
    },
    {
      "cell_type": "code",
      "source": [
        "df_train = df.loc[df[\"data_type\"]==\"train\"]\n",
        "df_val = df.loc[df[\"data_type\"]==\"val\"]\n",
        "df_test = df.loc[df[\"data_type\"]==\"test\"]\n",
        "\n",
        "df_train.head()\n",
        "\n",
        "df_train_plus_val = pd.concat([df_train,df_val], axis=0)\n",
        "df_train_plus_val.head()\n",
        "\n",
        "#print(df_train_plus_val.groupby(['label']).count())\n",
        "print(df_train_plus_val['category'].value_counts())"
      ],
      "metadata": {
        "colab": {
          "base_uri": "https://localhost:8080/"
        },
        "id": "CBJQ4JO_H1pr",
        "outputId": "43fbf832-d660-42b7-ea66-d8155b99f5d1"
      },
      "execution_count": 13,
      "outputs": [
        {
          "output_type": "stream",
          "name": "stdout",
          "text": [
            "offensive_language    16311\n",
            "neither                3538\n",
            "hate_speech            1216\n",
            "Name: category, dtype: int64\n"
          ]
        }
      ]
    },
    {
      "cell_type": "markdown",
      "source": [
        "Scarico l'embedded GloVe e mantengo solo il file che mi interessa glove.6B.100d.txt"
      ],
      "metadata": {
        "id": "eG2d4R-RH4pD"
      }
    },
    {
      "cell_type": "code",
      "source": [
        "! wget http://nlp.stanford.edu/data/glove.6B.zip\n",
        "! unzip glove*.zip\n",
        "! ls\n",
        "! pwd\n",
        "\n",
        "! rm glove.6B.200d.txt\n",
        "! rm glove.6B.300d.txt\n",
        "! rm glove.6B.50d.txt\n",
        "! rm -rf glove.6B.zip"
      ],
      "metadata": {
        "colab": {
          "base_uri": "https://localhost:8080/"
        },
        "id": "TkM4sDv5H5QL",
        "outputId": "eef239db-d0d8-4831-cd2c-a2609d7085cd"
      },
      "execution_count": 14,
      "outputs": [
        {
          "output_type": "stream",
          "name": "stdout",
          "text": [
            "--2022-06-30 14:09:49--  http://nlp.stanford.edu/data/glove.6B.zip\n",
            "Resolving nlp.stanford.edu (nlp.stanford.edu)... 171.64.67.140\n",
            "Connecting to nlp.stanford.edu (nlp.stanford.edu)|171.64.67.140|:80... connected.\n",
            "HTTP request sent, awaiting response... 302 Found\n",
            "Location: https://nlp.stanford.edu/data/glove.6B.zip [following]\n",
            "--2022-06-30 14:09:49--  https://nlp.stanford.edu/data/glove.6B.zip\n",
            "Connecting to nlp.stanford.edu (nlp.stanford.edu)|171.64.67.140|:443... connected.\n",
            "HTTP request sent, awaiting response... 301 Moved Permanently\n",
            "Location: https://downloads.cs.stanford.edu/nlp/data/glove.6B.zip [following]\n",
            "--2022-06-30 14:09:50--  https://downloads.cs.stanford.edu/nlp/data/glove.6B.zip\n",
            "Resolving downloads.cs.stanford.edu (downloads.cs.stanford.edu)... 171.64.64.22\n",
            "Connecting to downloads.cs.stanford.edu (downloads.cs.stanford.edu)|171.64.64.22|:443... connected.\n",
            "HTTP request sent, awaiting response... 200 OK\n",
            "Length: 862182613 (822M) [application/zip]\n",
            "Saving to: ‘glove.6B.zip’\n",
            "\n",
            "glove.6B.zip        100%[===================>] 822.24M  5.07MB/s    in 2m 39s  \n",
            "\n",
            "2022-06-30 14:12:30 (5.16 MB/s) - ‘glove.6B.zip’ saved [862182613/862182613]\n",
            "\n",
            "Archive:  glove.6B.zip\n",
            "  inflating: glove.6B.50d.txt        \n",
            "  inflating: glove.6B.100d.txt       \n",
            "  inflating: glove.6B.200d.txt       \n",
            "  inflating: glove.6B.300d.txt       \n",
            "glove.6B.100d.txt  glove.6B.50d.txt  test_data.csv\n",
            "glove.6B.200d.txt  glove.6B.zip      train_data.csv\n",
            "glove.6B.300d.txt  sample_data\t     val_data.csv\n",
            "/content\n"
          ]
        }
      ]
    },
    {
      "cell_type": "markdown",
      "source": [
        "Creo un oggetto Tokenizer e creo l'indice del vocabolario in base alla frequenza delle parole, assegnandogli un numero unico intero.\n",
        "\n",
        "Procedo a trasformare ogni testo in una sequenza di numeri interi, ogni parola nel testo viene sostituita col il valore intero corrispondente considerando il dizionario utilizzato.\n",
        " "
      ],
      "metadata": {
        "id": "gt-Js1LCH8Oi"
      }
    },
    {
      "cell_type": "code",
      "source": [
        "x = df_train_plus_val.text.values\n",
        "y = df_train_plus_val.label.values\n",
        "\n",
        "max_features = 10000\n",
        "max_text_length = 500\n",
        "\n",
        "x_tokenizer = text.Tokenizer(max_features)\n",
        "x_tokenizer.fit_on_texts(list(x))\n",
        "\n",
        "x_tokenized = x_tokenizer.texts_to_sequences(x)\n",
        "x_train_val= sequence.pad_sequences(x_tokenized, maxlen=max_text_length)\n",
        "\n",
        "x_test_tokenized = x_tokenizer.texts_to_sequences(df_test.text.values)\n",
        "x_test = sequence.pad_sequences(x_test_tokenized,maxlen=max_text_length)"
      ],
      "metadata": {
        "id": "sTyMBmdCH98C"
      },
      "execution_count": 15,
      "outputs": []
    },
    {
      "cell_type": "markdown",
      "source": [
        "Codifico i tweet utilizzando la funzione to_categorical() e li converto in numeri, in modo tale che tweet simili finiscano per avere numeri simili. \n",
        "\n",
        "Trovo le singole parole nel tweet e mappo le parole in numeri unici, i tweet con parole in comune avranno numeri simili per quella parte della sequenza.\n",
        "\n",
        "Mi avvalgo di un vocabolario esistente (GloVo) e inizializzo lo strato Embedding con i vettori GloVe preaddestrati.\n",
        "\n",
        "Procedo quindi a scaricare GloVe embedding. Leggo questi embedding in un dizionario per consultarli quando andrò a creare la matrice da incorporare al modello.\n",
        "Il layer conterrà il mapping per le parole in vettori GloVe.\n"
      ],
      "metadata": {
        "id": "4MOslZLhH_07"
      }
    },
    {
      "cell_type": "code",
      "source": [
        "embedding_dim =100\n",
        "embeddings_index = dict()\n",
        "f = open('glove.6B.100d.txt')\n",
        "for line in f:\n",
        "    values = line.split()\n",
        "    word = values[0]\n",
        "    coefs = np.asarray(values[1:],dtype='float32')\n",
        "    embeddings_index[word]= coefs\n",
        "f.close()\n",
        "print(f'Found {len(embeddings_index)} word vectors')\n",
        "\n",
        "\n",
        "\n",
        "\n",
        "embedding_matrix= np.zeros((max_features,embedding_dim))\n",
        "for word, index in x_tokenizer.word_index.items():\n",
        "    if index>max_features-1:\n",
        "        break\n",
        "    else:\n",
        "        embedding_vector = embeddings_index.get(word)\n",
        "        if embedding_vector is not None:\n",
        "            embedding_matrix[index]= embedding_vector\n",
        "\n",
        "y_train_plus_val =  tf.keras.utils.to_categorical(y, num_classes=3)\n",
        "y_test =  tf.keras.utils.to_categorical(df_test.label, num_classes=3)\n",
        "y_train_plus_val\n",
        "\n",
        "embedding_layer = Embedding(max_features,\n",
        "                    embedding_dim,\n",
        "                    embeddings_initializer=tf.keras.initializers.Constant(embedding_matrix),\n",
        "                    trainable=False)"
      ],
      "metadata": {
        "colab": {
          "base_uri": "https://localhost:8080/"
        },
        "id": "8bwp9FQAIBaq",
        "outputId": "69043c94-fad6-4bac-e3b5-597c9c88ac08"
      },
      "execution_count": 16,
      "outputs": [
        {
          "output_type": "stream",
          "name": "stdout",
          "text": [
            "Found 400000 word vectors\n"
          ]
        }
      ]
    },
    {
      "cell_type": "markdown",
      "source": [
        "Procedo a costruire il modello di Rete Neurale Convoluzionale, applico strati di Conv1D e MaxPooling1D per la ricerca delle feature\n"
      ],
      "metadata": {
        "id": "VSRTIGMyIDKk"
      }
    },
    {
      "cell_type": "code",
      "source": [
        "model = Sequential()\n",
        "model.add(embedding_layer)\n",
        "model.add(Conv1D(64,2,padding='same',activation='relu'))\n",
        "model.add(MaxPooling1D())\n",
        "model.add(Dropout(0.4))\n",
        "model.add(Conv1D(32,2,padding='same',activation='relu'))\n",
        "model.add(MaxPooling1D())\n",
        "model.add(Conv1D(32,2,padding='same',activation='relu'))\n",
        "model.add(GlobalMaxPooling1D())\n",
        "model.add(Dropout(0.2))\n",
        "\n",
        "model.add(Dense(3, activation='softmax'))\n",
        "model.summary()"
      ],
      "metadata": {
        "colab": {
          "base_uri": "https://localhost:8080/"
        },
        "id": "0q5wC7prIDvU",
        "outputId": "bc079870-561e-4608-e35d-1e6e1997fc73"
      },
      "execution_count": null,
      "outputs": [
        {
          "output_type": "stream",
          "name": "stdout",
          "text": [
            "Model: \"sequential_18\"\n",
            "_________________________________________________________________\n",
            " Layer (type)                Output Shape              Param #   \n",
            "=================================================================\n",
            " embedding_6 (Embedding)     (None, None, 100)         1000000   \n",
            "                                                                 \n",
            " conv1d_44 (Conv1D)          (None, None, 64)          12864     \n",
            "                                                                 \n",
            " max_pooling1d_26 (MaxPoolin  (None, None, 64)         0         \n",
            " g1D)                                                            \n",
            "                                                                 \n",
            " dropout_35 (Dropout)        (None, None, 64)          0         \n",
            "                                                                 \n",
            " conv1d_45 (Conv1D)          (None, None, 32)          4128      \n",
            "                                                                 \n",
            " max_pooling1d_27 (MaxPoolin  (None, None, 32)         0         \n",
            " g1D)                                                            \n",
            "                                                                 \n",
            " conv1d_46 (Conv1D)          (None, None, 32)          2080      \n",
            "                                                                 \n",
            " global_max_pooling1d_18 (Gl  (None, 32)               0         \n",
            " obalMaxPooling1D)                                               \n",
            "                                                                 \n",
            " dropout_36 (Dropout)        (None, 32)                0         \n",
            "                                                                 \n",
            " dense_29 (Dense)            (None, 3)                 99        \n",
            "                                                                 \n",
            "=================================================================\n",
            "Total params: 1,019,171\n",
            "Trainable params: 19,171\n",
            "Non-trainable params: 1,000,000\n",
            "_________________________________________________________________\n"
          ]
        }
      ]
    },
    {
      "cell_type": "code",
      "source": [
        "import math\n",
        "\n",
        "def create_class_weight(labels_dict,mu=0.15):\n",
        "    total = np.sum(list(labels_dict.values()))\n",
        "    keys = labels_dict.keys()\n",
        "    class_weight = dict()\n",
        "    \n",
        "    for key in keys:\n",
        "        score = math.log(mu*total/float(labels_dict[key]))\n",
        "        class_weight[key] = score if score > 1.0 else 1.0\n",
        "    \n",
        "    return class_weight\n",
        "\n",
        "\n",
        "# random labels_dict\n",
        "labels_dict = {0: 214, 1: 2879, 2: 625}\n",
        "\n",
        "labels_dictV2 = {0: 1216, 1: 16311, 2: 3538}"
      ],
      "metadata": {
        "id": "3gLELEmTdij-"
      },
      "execution_count": null,
      "outputs": []
    },
    {
      "cell_type": "markdown",
      "source": [
        "Procedo alla compilazione e fit del modello creando un checkpoint del modello per salvare gli eventuali risultati migliorativi. Come fuzione di perdita utilizzo Categorical CrossEntropy poichè le classi da predire sono > 2. Il validation split è impostato a 15% per mantenere le stesse dimensione dei file iniziali.\n",
        "\n",
        "Dal momento che il nostro dataset è completamento sbilanciato il comportamento del training evidenzia un po di underfitting"
      ],
      "metadata": {
        "id": "R4SzMQ00IGhs"
      }
    },
    {
      "cell_type": "code",
      "source": [
        "from keras.callbacks import ModelCheckpoint\n",
        "from keras.callbacks import EarlyStopping\n",
        "\n",
        "\n",
        "checkpointer = ModelCheckpoint(filepath=\"weights.hdf5\", verbose=0, save_best_only=True)\n",
        "\n",
        "earlyStopping = EarlyStopping(monitor=\"val_accuracy\", patience=2, restore_best_weights=True)\n",
        "\n",
        "model.compile(loss='categorical_crossentropy',optimizer='adam',metrics=['accuracy'])\n",
        "\n",
        "history = model.fit(x_train_val, y_train_plus_val, batch_size= 32, validation_split=0.15, class_weight=create_class_weight(labels_dictV2), epochs=8, callbacks=[checkpointer,earlyStopping])\n",
        "\n"
      ],
      "metadata": {
        "colab": {
          "base_uri": "https://localhost:8080/"
        },
        "id": "ySIbuFenIH9M",
        "outputId": "ac209511-ae42-4d21-b2bb-d62d4ace2778"
      },
      "execution_count": null,
      "outputs": [
        {
          "output_type": "stream",
          "name": "stdout",
          "text": [
            "Epoch 1/8\n",
            "560/560 [==============================] - 38s 66ms/step - loss: 0.4908 - accuracy: 0.8199 - val_loss: 0.3509 - val_accuracy: 0.8604\n",
            "Epoch 2/8\n",
            "560/560 [==============================] - 38s 69ms/step - loss: 0.3778 - accuracy: 0.8605 - val_loss: 0.3269 - val_accuracy: 0.8696\n",
            "Epoch 3/8\n",
            "560/560 [==============================] - 37s 66ms/step - loss: 0.3532 - accuracy: 0.8698 - val_loss: 0.3142 - val_accuracy: 0.8835\n",
            "Epoch 4/8\n",
            "560/560 [==============================] - 38s 67ms/step - loss: 0.3351 - accuracy: 0.8750 - val_loss: 0.3065 - val_accuracy: 0.8829\n",
            "Epoch 5/8\n",
            "560/560 [==============================] - 37s 66ms/step - loss: 0.3233 - accuracy: 0.8828 - val_loss: 0.3061 - val_accuracy: 0.8842\n",
            "Epoch 6/8\n",
            "560/560 [==============================] - 38s 68ms/step - loss: 0.3144 - accuracy: 0.8840 - val_loss: 0.2978 - val_accuracy: 0.8845\n",
            "Epoch 7/8\n",
            "560/560 [==============================] - 37s 66ms/step - loss: 0.3038 - accuracy: 0.8894 - val_loss: 0.2985 - val_accuracy: 0.8908\n",
            "Epoch 8/8\n",
            "560/560 [==============================] - 36s 65ms/step - loss: 0.2955 - accuracy: 0.8915 - val_loss: 0.3042 - val_accuracy: 0.8861\n"
          ]
        }
      ]
    },
    {
      "cell_type": "markdown",
      "source": [
        "Compongo il grafico rappresentante l'andamento della loss e accuracy function.\n",
        "\n",
        "Dal grafico si vede che inizialmente si ha una situazione di underfitting, con il passare degli epoche, alla n°6 le linee si intersecano con un incremento costante di overfitting questo puo esser dovuto al rumore presente sui dati, lo sbilanciamento delle classi a disposizione e dimensioni diverse del testo del tweet."
      ],
      "metadata": {
        "id": "-_4geJwIIJpT"
      }
    },
    {
      "cell_type": "code",
      "source": [
        "# Plot loss\n",
        "plt.plot(history.history['loss'], label='train')\n",
        "plt.plot(history.history['val_loss'], label='validation')\n",
        "plt.xlabel('Epochs')\n",
        "plt.ylabel('Loss')\n",
        "plt.title('Training loss vs. Epochs')\n",
        "plt.legend()\n",
        "plt.show()\n",
        "\n",
        "# Plot accuracy\n",
        "plt.plot(history.history['accuracy'], label='train')\n",
        "plt.plot(history.history['val_accuracy'], label='validation')\n",
        "plt.xlabel('Epochs')\n",
        "plt.ylabel('Accuracy')\n",
        "plt.title('Training accuracy vs. Epochs')\n",
        "plt.legend()\n",
        "plt.show()"
      ],
      "metadata": {
        "colab": {
          "base_uri": "https://localhost:8080/",
          "height": 573
        },
        "id": "npCwLz5WILRM",
        "outputId": "7bec5076-fc7e-4d6a-b376-457d0e9a9486"
      },
      "execution_count": null,
      "outputs": [
        {
          "output_type": "display_data",
          "data": {
            "text/plain": [
              "<Figure size 432x288 with 1 Axes>"
            ],
            "image/png": "[encoded data removed]"
          },
          "metadata": {
            "needs_background": "light"
          }
        },
        {
          "output_type": "display_data",
          "data": {
            "text/plain": [
              "<Figure size 432x288 with 1 Axes>"
            ],
            "image/png": "[encoded data removed]"
          },
          "metadata": {
            "needs_background": "light"
          }
        }
      ]
    },
    {
      "cell_type": "code",
      "source": [
        "loss = history.history['loss']\n",
        "val_loss = history.history['val_loss']\n",
        "epochs = range(1, len(loss) + 1)\n",
        "plt.plot(epochs, loss, color='red', label='Training loss')\n",
        "plt.plot(epochs, val_loss, color='green', label='Validation loss')\n",
        "plt.title('Training and validation loss')\n",
        "plt.xlabel('Epochs')\n",
        "plt.ylabel('Loss')\n",
        "plt.legend()\n",
        "plt.show()\n",
        "\n",
        "\n",
        "\n",
        "acc = history.history['accuracy']\n",
        "val_acc = history.history['val_accuracy']\n",
        "plt.plot(epochs, acc, color='red', label='Training acc')\n",
        "plt.plot(epochs, val_acc, color='green', label='Validation acc')\n",
        "plt.title('Training and validation accuracy')\n",
        "plt.xlabel('Epochs')\n",
        "plt.ylabel('accuracy')\n",
        "plt.legend()\n",
        "plt.show()"
      ],
      "metadata": {
        "colab": {
          "base_uri": "https://localhost:8080/",
          "height": 573
        },
        "id": "RPS1_UKEINFF",
        "outputId": "b06c7198-9518-47e9-936e-ad59b4beb08e"
      },
      "execution_count": null,
      "outputs": [
        {
          "output_type": "display_data",
          "data": {
            "text/plain": [
              "<Figure size 432x288 with 1 Axes>"
            ],
            "image/png": "[encoded data removed]"
          },
          "metadata": {
            "needs_background": "light"
          }
        },
        {
          "output_type": "display_data",
          "data": {
            "text/plain": [
              "<Figure size 432x288 with 1 Axes>"
            ],
            "image/png": "[encoded data removed]"
          },
          "metadata": {
            "needs_background": "light"
          }
        }
      ]
    },
    {
      "cell_type": "markdown",
      "source": [
        "Valuto il modello addestrato su i dati di Test."
      ],
      "metadata": {
        "id": "fBhY0brjIO47"
      }
    },
    {
      "cell_type": "code",
      "source": [
        "eval_hist=model.evaluate(x_test,y_test, batch_size = 32)\n"
      ],
      "metadata": {
        "colab": {
          "base_uri": "https://localhost:8080/"
        },
        "id": "IZf08l4DIQW0",
        "outputId": "a0e7044b-48b1-4b29-dc49-98e79515a854"
      },
      "execution_count": null,
      "outputs": [
        {
          "output_type": "stream",
          "name": "stdout",
          "text": [
            "117/117 [==============================] - 3s 22ms/step - loss: 0.3244 - accuracy: 0.8776\n"
          ]
        }
      ]
    },
    {
      "cell_type": "code",
      "source": [
        "y_pred = model.predict(x_test)\n",
        "print(y_pred)\n",
        "y_pred = np.array( [ np.argmax (y) for y in y_pred ] )\n",
        "print(y_pred)"
      ],
      "metadata": {
        "colab": {
          "base_uri": "https://localhost:8080/"
        },
        "id": "JgXQ38WZIRp1",
        "outputId": "b3b4cb8e-fd85-4e5d-8cc4-d7653ffd5b2d"
      },
      "execution_count": null,
      "outputs": [
        {
          "output_type": "stream",
          "name": "stdout",
          "text": [
            "[[1.70613255e-03 5.68276830e-03 9.92611110e-01]\n",
            " [8.84960592e-02 9.04824376e-01 6.67950418e-03]\n",
            " [8.19261000e-02 9.17967558e-01 1.06388645e-04]\n",
            " ...\n",
            " [5.95554151e-02 1.42313167e-01 7.98131347e-01]\n",
            " [1.65704582e-02 9.83211458e-01 2.18046363e-04]\n",
            " [2.49931496e-02 9.74518776e-01 4.87995247e-04]]\n",
            "[2 1 1 ... 2 1 1]\n"
          ]
        }
      ]
    },
    {
      "cell_type": "markdown",
      "source": [
        "Costruisco la matrice di confusione multiclasse in modo da capire quanto potrebbe essere lontana una previsione quando le classi di output sono ordinali.\n",
        "\n",
        "La sola indicazione della accuracy non cia aiuta a valutare bene il modello poichè non sappiamo come vengono distribuite le probabilità.\n",
        "Per una maggiore comprensione creo la matrice di confusione.\n",
        "\n",
        "Gli elementi diagonali della matrice di confusione rappresentano il numero di punti per i quali l'etichetta prevista è uguale all'etichetta vera, mentre gli elementi fuori diagonale sono quelli etichettati erroneamente dal  classificatore, si puo vedere come la predizioni siano accettabili per due classi (1,2) mentre risulta insufficente per la classe 0 la quale ha predetto troppo pochi campioni rispetto alle altre.\n",
        "\n"
      ],
      "metadata": {
        "id": "rngt2WYrIVYW"
      }
    },
    {
      "cell_type": "code",
      "source": [
        "from sklearn.metrics import plot_confusion_matrix\n",
        "\n",
        "y_test_labels = df_test.label\n",
        "print('number of sample: '+str(len(y_test_labels)))\n",
        "cm = confusion_matrix(y_test_labels, y_pred)\n",
        "fig = sns.heatmap(cm, annot=True, fmt=\"d\")\n",
        "plt.title(\"Confusion Matrix\")\n",
        "plt.xlabel(\"Predicted Label\")\n",
        "plt.ylabel(\"Actual Label\")\n",
        "plt.show(fig)\n",
        "\n",
        "\n",
        "y_test_labels\n",
        "\n",
        "model.save('model.h5')"
      ],
      "metadata": {
        "colab": {
          "base_uri": "https://localhost:8080/",
          "height": 313
        },
        "id": "p8iw-iCPIW0k",
        "outputId": "bceabe6b-629d-4cb8-8975-153c3cd841b5"
      },
      "execution_count": null,
      "outputs": [
        {
          "output_type": "stream",
          "name": "stdout",
          "text": [
            "number of sample: 3718\n"
          ]
        },
        {
          "output_type": "display_data",
          "data": {
            "text/plain": [
              "<Figure size 432x288 with 2 Axes>"
            ],
            "image/png": "[encoded data removed]"
          },
          "metadata": {
            "needs_background": "light"
          }
        }
      ]
    },
    {
      "cell_type": "markdown",
      "source": [
        "Dalla matrice sopra notiamo che su 214 campioni solo 68 sono stati classificati correttamente\n",
        "Mentre per le altre due label (1,2) su un totale di 2.879(1) e 625(2) si ha una predizione positiva 2691(1) e (504).\n",
        "Le label 2 e 1 sarebbero anche accettabili se non fosse per la label 0."
      ],
      "metadata": {
        "id": "r1lD3HE_e7Md"
      }
    },
    {
      "cell_type": "markdown",
      "source": [
        "Normalizzo la matrice per leggere la percentuale dei campioni classificati."
      ],
      "metadata": {
        "id": "30l55ftG9Pgr"
      }
    },
    {
      "cell_type": "code",
      "source": [
        "from sklearn.metrics import confusion_matrix\n",
        "import seaborn as sns\n",
        "\n",
        "# Normalise\n",
        "cmn = cm.astype('float') / cm.sum(axis=1)[:, np.newaxis]\n",
        "fig = sns.heatmap(cmn, annot=True, fmt=\".2%\")\n",
        "plt.title(\"Confusion Matrix\")\n",
        "plt.xlabel(\"Predicted Label\")\n",
        "plt.ylabel(\"Actual Label\")\n",
        "plt.show(fig)\n"
      ],
      "metadata": {
        "colab": {
          "base_uri": "https://localhost:8080/",
          "height": 295
        },
        "id": "twnbSqBT7aXT",
        "outputId": "69f19230-3398-4d72-b12f-9480d86874e5"
      },
      "execution_count": null,
      "outputs": [
        {
          "output_type": "display_data",
          "data": {
            "text/plain": [
              "<Figure size 432x288 with 2 Axes>"
            ],
            "image/png": "[encoded data removed]"
          },
          "metadata": {
            "needs_background": "light"
          }
        }
      ]
    },
    {
      "cell_type": "markdown",
      "source": [
        "\n",
        "\n",
        "\n",
        "\n",
        "Utilizzo le api di skliearn per generare il report di classificazione risultante\n",
        "\n",
        "Tenendo presente che: \n",
        "La precision indica quante del numero totale di previsioni specificate come positive sono state assegnate correttamente. \n",
        "La recall è il numero totale di casi positivi effettivi previsti correttamente.\n",
        "F1 combina precision e recall in una media armonica dei due valori.\n",
        "solitamente per avere un buon risultato si dovrebbe aevere precision, recall e f1 identica, questo ci \n",
        "\n",
        "Per le micro e macro avg (per qualsiasi metrica) l'interpretazione differisce. Una macroavg calcolerà la metrica in modo indipendente per ogni classe e poi ne farà la media (trattando quindi tutte le classi allo stesso modo), mentre una micromedia aggregherà i contributi di tutte le classi per calcolare la metrica media. In una configurazione di classificazione multiclasse, la micromedia è preferibile se si sospetta che ci sia uno squilibrio tra le classi (ad esempio, si possono avere molti più esempi di una classe che di altre). \n"
      ],
      "metadata": {
        "id": "UcuYbpEjIYTl"
      }
    },
    {
      "cell_type": "code",
      "source": [
        "\n",
        "from sklearn.metrics import classification_report\n",
        "from sklearn import metrics\n",
        "print(metrics.classification_report(y_test_labels, y_pred))"
      ],
      "metadata": {
        "id": "A9ZYXYz2IZpA",
        "colab": {
          "base_uri": "https://localhost:8080/"
        },
        "outputId": "a567f2d4-aa64-4730-b1b7-2a6583345e4c"
      },
      "execution_count": null,
      "outputs": [
        {
          "output_type": "stream",
          "name": "stdout",
          "text": [
            "              precision    recall  f1-score   support\n",
            "\n",
            "           0       0.49      0.32      0.39       214\n",
            "           1       0.92      0.93      0.93      2879\n",
            "           2       0.77      0.81      0.79       625\n",
            "\n",
            "    accuracy                           0.88      3718\n",
            "   macro avg       0.73      0.69      0.70      3718\n",
            "weighted avg       0.87      0.88      0.87      3718\n",
            "\n"
          ]
        }
      ]
    },
    {
      "cell_type": "markdown",
      "source": [
        "**Conclusioni**\n",
        "\n",
        "\n",
        "Il calcolo rivela che una valutazione efficace della qualità di un modello richiede più contesto rispetto al valore di accuratezza, infatti comparando il training di vari modelli provati , vi sono modelli che posso avere una precisione di accurattezza maggiore ma che hanno però uno sbilanciamento di predizione sulle classi predette piu marcato,\n",
        "infatti non conta quanto sia piu alta una previsione in se ma conta in rapporto alle altre.\n",
        "KLe tre predizioni dovrebbero esser simili e non discostarsi molto tra loro.\n",
        "\n",
        "La situazione ideale dovrebbe esser rappresentata da numeri di precision, recall e f1 praticamente uguali o alemno molto simili, nel nostro caso variano, per la classe 1 e 2 non si discostano di molto invece per la label 0 si ha un discostamento piu importante.\n",
        "\n",
        "Nel caso della metrica \"accuracy\"(micro avg) la media 0.88 è l'unica che vediamo su f1-score perchè il report di classificazione deve visualizzare un solo valore di accuratezza, visto che precision e recall hanno lo stesso valore.\n",
        "\n",
        "\n",
        "Lavorando con un set di dati sbilanciato in cui tutte le classi sono ugualmente importanti, l'uso della macro-avg è la scelta che privilegio, poiché tratta tutte le classi allo stesso modo.\n",
        "\n",
        "Sono stati fatti molti test sulla rete modificando i prametri e layer del modello per trovare la soluzione che garantisse i risultati migliori, ovviamente è stato tenuto conto del fatto che il numero di prametri sarebbe dovuto esser non troppo elevato, riportando qui gli ultimi 6 test come esempio swi puo notare come l'accuracy e loss non siano attendibili come unico parametro di valutazaione:\n",
        "\n"
      ],
      "metadata": {
        "id": "5Cl7Kj6fh7Bv"
      }
    },
    {
      "cell_type": "markdown",
      "source": [
        "![MATRIX.png](data:image/png;base64,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)"
      ],
      "metadata": {
        "id": "VDosRvtH4blW"
      }
    },
    {
      "cell_type": "markdown",
      "source": [
        "\n",
        "\n",
        "Come possibili soluzione migliorative, se non si vuole provare a regolare i parametri attualmente usati, sia per la rete che per la pre-elaborazione del testo, si potrebbe incrementare il numero di sampling del dataset aggiungendo altri sample con classi uguali e che possano esser generati casualmente da quelli preesistenti, oppure effettuare entrambe oversampling e Undersampling cercando di gestire i dati affinchè vi siano un numero maggiori di istanze per la classe 0 e 2 e meno istanze per la classe dominante 1.\n",
        "Questo porterebbe ad avere un incremento significativo del rumore da dover poi gestire.\n",
        " Una parte decisamente importante è stata la preelaborazione dei dati testuali, effettuare una pulizia e un refactor del test più preciso e attendo puo aumetare il grado di precisione per le 3 classi sulla matrice di confusione.\n"
      ],
      "metadata": {
        "id": "yIz3YESBg9q7"
      }
    }
  ]
}